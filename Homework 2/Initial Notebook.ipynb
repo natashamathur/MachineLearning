{
 "cells": [
  {
   "cell_type": "code",
   "execution_count": 114,
   "metadata": {},
   "outputs": [],
   "source": [
    "import math\n",
    "import pandas as pd\n",
    "import numpy as np\n",
    "import matplotlib.pyplot as plt\n",
    "\n",
    "import sklearn\n",
    "import sklearn.neural_network\n",
    "from sklearn.neighbors import KNeighborsClassifier\n",
    "from sklearn.model_selection import train_test_split\n",
    "\n",
    "import seaborn as sns"
   ]
  },
  {
   "cell_type": "markdown",
   "metadata": {},
   "source": [
    "## Read Data"
   ]
  },
  {
   "cell_type": "code",
   "execution_count": 115,
   "metadata": {},
   "outputs": [],
   "source": [
    "def read_csv(filepath):\n",
    "    '''\n",
    "    '''\n",
    "    return pd.read_csv(filepath)"
   ]
  },
  {
   "cell_type": "code",
   "execution_count": 116,
   "metadata": {},
   "outputs": [],
   "source": [
    "main = read_csv('credit-data.csv')"
   ]
  },
  {
   "cell_type": "markdown",
   "metadata": {},
   "source": [
    "## Pre-Process Data"
   ]
  },
  {
   "cell_type": "code",
   "execution_count": 88,
   "metadata": {},
   "outputs": [],
   "source": [
    "def replace_na_with_mean(df, var):\n",
    "    '''\n",
    "    Replaces all the NA's in a given column with the mean of that column.\n",
    "    \n",
    "    Input:\n",
    "        df (pandas dataframe): original dataframe\n",
    "        var (string): column containing NA values\n",
    "    '''\n",
    "    mean_var = main[var].mean()\n",
    "    main[var].fillna(mean_var, inplace=True)"
   ]
  },
  {
   "cell_type": "code",
   "execution_count": 89,
   "metadata": {},
   "outputs": [],
   "source": [
    "def fill_missing_with_mean(df):\n",
    "    '''\n",
    "    Takes a dataframe and replaces all NA's in all columns with the mean.\n",
    "    \n",
    "    Input:\n",
    "        df (pandas dataframe): original dataframe\n",
    "    '''\n",
    "    na_cols = list(main.loc[:, main.isna().any()].columns)\n",
    "    for col in na_cols:\n",
    "        replace_na_with_mean(df, col) \n",
    "        \n",
    "    return main"
   ]
  },
  {
   "cell_type": "code",
   "execution_count": 122,
   "metadata": {},
   "outputs": [],
   "source": [
    "def na_cols(df):\n",
    "    '''\n",
    "    Produces a list of columns in the data frame that have N/A values.\n",
    "    \n",
    "    Input:\n",
    "        df (data frame): data frame of interest\n",
    "        \n",
    "    Output:\n",
    "        list of columns that contain N/A's\n",
    "    '''\n",
    "    \n",
    "    return list(main.loc[:, main.isna().any()].columns)"
   ]
  },
  {
   "cell_type": "code",
   "execution_count": 123,
   "metadata": {},
   "outputs": [
    {
     "data": {
      "text/plain": [
       "['MonthlyIncome', 'NumberOfDependents']"
      ]
     },
     "execution_count": 123,
     "metadata": {},
     "output_type": "execute_result"
    }
   ],
   "source": [
    "na_cols(main)"
   ]
  },
  {
   "cell_type": "code",
   "execution_count": 118,
   "metadata": {},
   "outputs": [
    {
     "data": {
      "text/plain": [
       "count    39979.000000\n",
       "mean         0.773231\n",
       "std          1.121269\n",
       "min          0.000000\n",
       "25%          0.000000\n",
       "50%          0.000000\n",
       "75%          1.000000\n",
       "max         13.000000\n",
       "Name: NumberOfDependents, dtype: float64"
      ]
     },
     "execution_count": 118,
     "metadata": {},
     "output_type": "execute_result"
    }
   ],
   "source": [
    "main['NumberOfDependents'].describe()"
   ]
  },
  {
   "cell_type": "code",
   "execution_count": 119,
   "metadata": {},
   "outputs": [
    {
     "data": {
      "text/plain": [
       "count    3.304200e+04\n",
       "mean     6.578996e+03\n",
       "std      1.344683e+04\n",
       "min      0.000000e+00\n",
       "25%      3.333000e+03\n",
       "50%      5.250000e+03\n",
       "75%      8.055750e+03\n",
       "max      1.794060e+06\n",
       "Name: MonthlyIncome, dtype: float64"
      ]
     },
     "execution_count": 119,
     "metadata": {},
     "output_type": "execute_result"
    }
   ],
   "source": [
    "main['MonthlyIncome'].describe()"
   ]
  },
  {
   "cell_type": "code",
   "execution_count": 90,
   "metadata": {},
   "outputs": [],
   "source": [
    "main = fill_missing_with_mean(main)\n",
    "\n",
    "# The columns that contain N/As are NumberOfDependents and MonthlyIncome. These are both demographic factors for which\n",
    "# economists and sociologists often look at the mean as representative of the sample as a whole. Therefore\n",
    "# in order to facilitate analysis without removing data points the mean is used in this analysis."
   ]
  },
  {
   "cell_type": "code",
   "execution_count": 91,
   "metadata": {},
   "outputs": [],
   "source": [
    "# removes person ID and zip code, values you cannot take statistical measures of \n",
    "\n",
    "relevant = main[['SeriousDlqin2yrs', 'RevolvingUtilizationOfUnsecuredLines',\n",
    "       'age', 'NumberOfTime30-59DaysPastDueNotWorse', 'DebtRatio',\n",
    "       'MonthlyIncome', 'NumberOfOpenCreditLinesAndLoans',\n",
    "       'NumberOfTimes90DaysLate', 'NumberRealEstateLoansOrLines',\n",
    "       'NumberOfTime60-89DaysPastDueNotWorse', 'NumberOfDependents']]\n"
   ]
  },
  {
   "cell_type": "code",
   "execution_count": 92,
   "metadata": {},
   "outputs": [],
   "source": [
    "# removed ages where there is not continous or sufficient data \n",
    "\n",
    "by_age = relevant.groupby('age').mean()\n",
    "by_age = by_age.drop([103, 109, 96, 97, 98, 99])"
   ]
  },
  {
   "cell_type": "markdown",
   "metadata": {},
   "source": [
    "## Explore Data"
   ]
  },
  {
   "cell_type": "code",
   "execution_count": 103,
   "metadata": {},
   "outputs": [],
   "source": [
    "def plot_line_graph(df, var, title, xlabel, ylabel):\n",
    "    x = list(df.index.values)\n",
    "    y = list(df[var].values)\n",
    "    plt.title(title)\n",
    "    plt.xlabel(xlabel)\n",
    "    plt.ylabel(ylabel)\n",
    "    plt.plot(x,y)\n",
    "    plt.show()"
   ]
  },
  {
   "cell_type": "markdown",
   "metadata": {},
   "source": [
    "#### Correlation Heatmap"
   ]
  },
  {
   "cell_type": "code",
   "execution_count": 107,
   "metadata": {},
   "outputs": [
    {
     "data": {
      "image/png": "[encoded data removed]",
      "text/plain": [
       "<Figure size 432x288 with 3 Axes>"
      ]
     },
     "metadata": {},
     "output_type": "display_data"
    }
   ],
   "source": [
    "corr = main.corr()\n",
    "sns.heatmap(corr, xticklabels=corr.columns.values, yticklabels=corr.columns.values)\n",
    "plt.show()"
   ]
  },
  {
   "cell_type": "code",
   "execution_count": 108,
   "metadata": {},
   "outputs": [
    {
     "data": {
      "image/png": "[encoded data removed]",
      "text/plain": [
       "<Figure size 432x288 with 1 Axes>"
      ]
     },
     "metadata": {},
     "output_type": "display_data"
    }
   ],
   "source": [
    "plot_line_graph(by_age, 'NumberOfDependents', 'Mean Dependents at Each Age', 'Avg Dependents', 'Age')"
   ]
  },
  {
   "cell_type": "code",
   "execution_count": 109,
   "metadata": {},
   "outputs": [
    {
     "data": {
      "image/png": "[encoded data removed]",
      "text/plain": [
       "<Figure size 432x288 with 1 Axes>"
      ]
     },
     "metadata": {},
     "output_type": "display_data"
    }
   ],
   "source": [
    "plot_line_graph(by_age, 'SeriousDlqin2yrs', 'Mean Delinquencies at Each Age', 'Avg Delinquencies', 'Age')"
   ]
  },
  {
   "cell_type": "markdown",
   "metadata": {},
   "source": [
    "## Generate Features/Predictors"
   ]
  },
  {
   "cell_type": "code",
   "execution_count": 72,
   "metadata": {},
   "outputs": [],
   "source": [
    "def add_dummy_variable(df, var, dummy_var, lambda_eq):\n",
    "    df[dummy_var] = df[var].apply(lambda_eq)"
   ]
  },
  {
   "cell_type": "code",
   "execution_count": 73,
   "metadata": {},
   "outputs": [],
   "source": [
    "def add_discrete_variable(df, var, discrete_var, num_categories):\n",
    "    df[discrete_var] = pd.cut(df[var], num_categories)"
   ]
  },
  {
   "cell_type": "code",
   "execution_count": null,
   "metadata": {},
   "outputs": [],
   "source": [
    "main_plus = main"
   ]
  },
  {
   "cell_type": "code",
   "execution_count": 83,
   "metadata": {},
   "outputs": [],
   "source": [
    "add_dummy_variable(main_plus, 'MonthlyIncome', 'Impoverished', lambda x: x < 23550)"
   ]
  },
  {
   "cell_type": "code",
   "execution_count": 84,
   "metadata": {},
   "outputs": [
    {
     "name": "stdout",
     "output_type": "stream",
     "text": [
      "99.0% of the people in this study have an income below the poverty line for a family of 4.\n"
     ]
    }
   ],
   "source": [
    "not_impoverished = main_plus.groupby('Impoverished').count().PersonID[0]\n",
    "impoverished = main_plus.groupby('Impoverished').count().PersonID[1]\n",
    "total = main.shape[0]\n",
    "percent_in_poverty = str(round((impoverished/total)*100))\n",
    "print(percent_in_poverty + \"% of the people in this study have an income below the poverty line for a family of 4.\")"
   ]
  },
  {
   "cell_type": "code",
   "execution_count": 79,
   "metadata": {},
   "outputs": [],
   "source": [
    "add_discrete_variable(main_plus, 'NumberOfTimes90DaysLate', 'Discrete NumberOfTimes90DaysLate', 200)"
   ]
  },
  {
   "cell_type": "markdown",
   "metadata": {},
   "source": [
    "## Build Classifier"
   ]
  },
  {
   "cell_type": "code",
   "execution_count": 38,
   "metadata": {},
   "outputs": [],
   "source": [
    "def divide_df(df, var, test_size = 0.3):\n",
    "    # var must be a string\n",
    "    X = df\n",
    "    Y = df[var]\n",
    "    test_size = 0.3\n",
    "    x_train, x_test, y_train, y_test = train_test_split(X, Y, test_size=test_size)\n",
    "    \n",
    "    return x_train, x_test, y_train, y_test"
   ]
  },
  {
   "cell_type": "code",
   "execution_count": 55,
   "metadata": {},
   "outputs": [],
   "source": [
    "x_train, x_test, y_train, y_test = divide_df(main, 'SeriousDlqin2yrs', test_size = 0.3)"
   ]
  },
  {
   "cell_type": "markdown",
   "metadata": {},
   "source": [
    "#### K Nearest Neighbors"
   ]
  },
  {
   "cell_type": "code",
   "execution_count": 56,
   "metadata": {},
   "outputs": [
    {
     "name": "stderr",
     "output_type": "stream",
     "text": [
      "/Library/Frameworks/Python.framework/Versions/3.6/lib/python3.6/site-packages/ipykernel_launcher.py:1: SyntaxWarning: Parameter p is found in metric_params. The corresponding parameter from __init__ is ignored.\n",
      "  \"\"\"Entry point for launching an IPython kernel.\n"
     ]
    },
    {
     "data": {
      "text/plain": [
       "KNeighborsClassifier(algorithm='auto', leaf_size=30, metric='minkowski',\n",
       "           metric_params={'p': 3}, n_jobs=1, n_neighbors=10, p=2,\n",
       "           weights='uniform')"
      ]
     },
     "execution_count": 56,
     "metadata": {},
     "output_type": "execute_result"
    }
   ],
   "source": [
    "knn = KNeighborsClassifier(n_neighbors=10, metric='minkowski', metric_params={'p': 3})\n",
    "knn.fit(x_train, y_train)"
   ]
  },
  {
   "cell_type": "markdown",
   "metadata": {},
   "source": [
    "#### Neural Net"
   ]
  },
  {
   "cell_type": "code",
   "execution_count": 82,
   "metadata": {},
   "outputs": [
    {
     "name": "stdout",
     "output_type": "stream",
     "text": [
      "The number of hidden layers is 1\n"
     ]
    }
   ],
   "source": [
    "nn = sklearn.neural_network.MLPClassifier()\n",
    "nn.fit(x_train, y_train)\n",
    "print(\"The number of hidden layers is\", nn.n_layers_ - 2)"
   ]
  },
  {
   "cell_type": "markdown",
   "metadata": {},
   "source": [
    "## Evaluate Classifier"
   ]
  },
  {
   "cell_type": "code",
   "execution_count": 111,
   "metadata": {},
   "outputs": [],
   "source": [
    "def evaluate_classifier(classifier, x_train, y_train, x_test, y_test):\n",
    "    print('Training: ')\n",
    "    print(classifier.score(x_train, y_train))\n",
    "    print('Testing: ')\n",
    "    print(classifier.score(x_test, y_test))"
   ]
  },
  {
   "cell_type": "code",
   "execution_count": 112,
   "metadata": {},
   "outputs": [
    {
     "name": "stdout",
     "output_type": "stream",
     "text": [
      "Training: \n",
      "0.943227334471\n",
      "Testing: \n",
      "0.943193823649\n"
     ]
    }
   ],
   "source": [
    "# K Nearest Neighbors\n",
    "\n",
    "evaluate_classifier(knn, x_train, y_train, x_test, y_test)"
   ]
  },
  {
   "cell_type": "code",
   "execution_count": 113,
   "metadata": {},
   "outputs": [
    {
     "name": "stdout",
     "output_type": "stream",
     "text": [
      "Training: \n",
      "0.909686182996\n",
      "Testing: \n",
      "0.910686712718\n"
     ]
    }
   ],
   "source": [
    "# Neural Net\n",
    "\n",
    "evaluate_classifier(nn, x_train, y_train, x_test, y_test)"
   ]
  }
 ],
 "metadata": {
  "kernelspec": {
   "display_name": "Python 3",
   "language": "python",
   "name": "python3"
  },
  "language_info": {
   "codemirror_mode": {
    "name": "ipython",
    "version": 3
   },
   "file_extension": ".py",
   "mimetype": "text/x-python",
   "name": "python",
   "nbconvert_exporter": "python",
   "pygments_lexer": "ipython3",
   "version": "3.6.4"
  }
 },
 "nbformat": 4,
 "nbformat_minor": 2
}
