{
 "cells": [
  {
   "cell_type": "code",
   "execution_count": 1,
   "metadata": {},
   "outputs": [],
   "source": [
    "import math\n",
    "import pandas as pd\n",
    "import numpy as np\n",
    "import matplotlib.pyplot as plt\n",
    "\n",
    "import sklearn\n",
    "import sklearn.naive_bayes\n",
    "import sklearn.neural_network\n",
    "from sklearn.neighbors import KNeighborsClassifier\n",
    "from sklearn.model_selection import train_test_split\n",
    "\n",
    "import seaborn as sns"
   ]
  },
  {
   "cell_type": "markdown",
   "metadata": {},
   "source": [
    "## Read Data"
   ]
  },
  {
   "cell_type": "code",
   "execution_count": 2,
   "metadata": {},
   "outputs": [],
   "source": [
    "def read_csv(filepath):\n",
    "    '''\n",
    "    Takes a csv and returns a pandas data frame\n",
    "    \n",
    "    Input:\n",
    "        filepath (directory path): file location\n",
    "        \n",
    "    Output:\n",
    "        pandas data frame\n",
    "    '''\n",
    "    \n",
    "    return pd.read_csv(filepath)"
   ]
  },
  {
   "cell_type": "code",
   "execution_count": 3,
   "metadata": {},
   "outputs": [],
   "source": [
    "main = read_csv('credit-data.csv')"
   ]
  },
  {
   "cell_type": "markdown",
   "metadata": {},
   "source": [
    "## Pre-Process Data"
   ]
  },
  {
   "cell_type": "code",
   "execution_count": 4,
   "metadata": {},
   "outputs": [],
   "source": [
    "def replace_na_with_mean(df, var):\n",
    "    '''\n",
    "    Replaces all the NA's in a given column with the mean of that column.\n",
    "    \n",
    "    Input:\n",
    "        df (pandas dataframe): original dataframe\n",
    "        var (string): column containing NA values\n",
    "    '''\n",
    "    \n",
    "    mean_var = main[var].mean()\n",
    "    main[var].fillna(mean_var, inplace=True)"
   ]
  },
  {
   "cell_type": "code",
   "execution_count": 5,
   "metadata": {},
   "outputs": [],
   "source": [
    "def fill_missing_with_mean(df):\n",
    "    '''\n",
    "    Takes a dataframe and replaces all NA's in all columns with the mean.\n",
    "    \n",
    "    Input:\n",
    "        df (pandas dataframe): original dataframe\n",
    "    '''\n",
    "    na_cols = list(df.loc[:, df.isna().any()].columns)\n",
    "    for col in na_cols:\n",
    "        replace_na_with_mean(df, col) \n",
    "        \n",
    "    return df"
   ]
  },
  {
   "cell_type": "code",
   "execution_count": 6,
   "metadata": {},
   "outputs": [],
   "source": [
    "def na_cols(df):\n",
    "    '''\n",
    "    Produces a list of columns in the data frame that have N/A values.\n",
    "    \n",
    "    Input:\n",
    "        df (data frame): data frame of interest\n",
    "        \n",
    "    Output:\n",
    "        list of columns that contain N/A's\n",
    "    '''\n",
    "    \n",
    "    return list(main.loc[:, main.isna().any()].columns)"
   ]
  },
  {
   "cell_type": "code",
   "execution_count": 7,
   "metadata": {},
   "outputs": [
    {
     "data": {
      "text/plain": [
       "['MonthlyIncome', 'NumberOfDependents']"
      ]
     },
     "execution_count": 7,
     "metadata": {},
     "output_type": "execute_result"
    }
   ],
   "source": [
    "na_cols(main)"
   ]
  },
  {
   "cell_type": "code",
   "execution_count": 8,
   "metadata": {},
   "outputs": [
    {
     "data": {
      "text/plain": [
       "count    39979.000000\n",
       "mean         0.773231\n",
       "std          1.121269\n",
       "min          0.000000\n",
       "25%          0.000000\n",
       "50%          0.000000\n",
       "75%          1.000000\n",
       "max         13.000000\n",
       "Name: NumberOfDependents, dtype: float64"
      ]
     },
     "execution_count": 8,
     "metadata": {},
     "output_type": "execute_result"
    }
   ],
   "source": [
    "main['NumberOfDependents'].describe()"
   ]
  },
  {
   "cell_type": "code",
   "execution_count": 9,
   "metadata": {},
   "outputs": [
    {
     "data": {
      "text/plain": [
       "count    3.304200e+04\n",
       "mean     6.578996e+03\n",
       "std      1.344683e+04\n",
       "min      0.000000e+00\n",
       "25%      3.333000e+03\n",
       "50%      5.250000e+03\n",
       "75%      8.055750e+03\n",
       "max      1.794060e+06\n",
       "Name: MonthlyIncome, dtype: float64"
      ]
     },
     "execution_count": 9,
     "metadata": {},
     "output_type": "execute_result"
    }
   ],
   "source": [
    "main['MonthlyIncome'].describe()"
   ]
  },
  {
   "cell_type": "code",
   "execution_count": 10,
   "metadata": {},
   "outputs": [],
   "source": [
    "main = fill_missing_with_mean(main)\n",
    "\n",
    "# The columns that contain N/As are NumberOfDependents and MonthlyIncome. These are both demographic factors for which\n",
    "# economists and sociologists often look at the mean as representative of the sample as a whole. Therefore\n",
    "# in order to facilitate analysis without removing data points the mean is used in this analysis."
   ]
  },
  {
   "cell_type": "code",
   "execution_count": 11,
   "metadata": {},
   "outputs": [],
   "source": [
    "# removes person ID and zip code, values you cannot take statistical measures of \n",
    "\n",
    "statistical = main[['SeriousDlqin2yrs', 'RevolvingUtilizationOfUnsecuredLines',\n",
    "       'age', 'NumberOfTime30-59DaysPastDueNotWorse', 'DebtRatio',\n",
    "       'MonthlyIncome', 'NumberOfOpenCreditLinesAndLoans',\n",
    "       'NumberOfTimes90DaysLate', 'NumberRealEstateLoansOrLines',\n",
    "       'NumberOfTime60-89DaysPastDueNotWorse', 'NumberOfDependents']]"
   ]
  },
  {
   "cell_type": "code",
   "execution_count": 12,
   "metadata": {},
   "outputs": [],
   "source": [
    "# removed ages where there is not continous or sufficient data \n",
    "\n",
    "by_age = statistical.groupby('age').mean()\n",
    "by_age = by_age.drop([103, 109, 96, 97, 98, 99])"
   ]
  },
  {
   "cell_type": "markdown",
   "metadata": {},
   "source": [
    "## Explore Data"
   ]
  },
  {
   "cell_type": "code",
   "execution_count": 13,
   "metadata": {},
   "outputs": [],
   "source": [
    "def plot_line_graph(df, var, title, xlabel, ylabel):\n",
    "    '''\n",
    "    Plots a line graph based on columns in a pandas data frame\n",
    "    \n",
    "    Inputs:\n",
    "        df (pandas data frame): data frame containing values to be graphed\n",
    "        var (str): column name of dependent variable\n",
    "        title (str): title for line graph\n",
    "        xlabel (str): label for x-axis\n",
    "        ylabel (str): label for y-axis\n",
    "    '''\n",
    "\n",
    "    x = list(df.index.values)\n",
    "    y = list(df[var].values)\n",
    "    plt.title(title)\n",
    "    plt.xlabel(xlabel)\n",
    "    plt.ylabel(ylabel)\n",
    "    plt.plot(x,y)\n",
    "    plt.show()"
   ]
  },
  {
   "cell_type": "markdown",
   "metadata": {},
   "source": [
    "#### Correlation Heatmap"
   ]
  },
  {
   "cell_type": "code",
   "execution_count": 14,
   "metadata": {},
   "outputs": [
    {
     "data": {
      "image/png": "[encoded data removed]",
      "text/plain": [
       "<Figure size 432x288 with 2 Axes>"
      ]
     },
     "metadata": {},
     "output_type": "display_data"
    }
   ],
   "source": [
    "corr = main.corr()\n",
    "sns.heatmap(corr, xticklabels=corr.columns.values, yticklabels=corr.columns.values)\n",
    "plt.show()"
   ]
  },
  {
   "cell_type": "code",
   "execution_count": 15,
   "metadata": {},
   "outputs": [
    {
     "data": {
      "image/png": "[encoded data removed]",
      "text/plain": [
       "<Figure size 432x288 with 1 Axes>"
      ]
     },
     "metadata": {},
     "output_type": "display_data"
    }
   ],
   "source": [
    "plot_line_graph(by_age, 'NumberOfDependents', 'Mean Dependents at Each Age', 'Avg Dependents', 'Age')"
   ]
  },
  {
   "cell_type": "code",
   "execution_count": 16,
   "metadata": {},
   "outputs": [
    {
     "data": {
      "image/png": "[encoded data removed]",
      "text/plain": [
       "<Figure size 432x288 with 1 Axes>"
      ]
     },
     "metadata": {},
     "output_type": "display_data"
    }
   ],
   "source": [
    "plot_line_graph(by_age, 'SeriousDlqin2yrs', 'Mean Delinquencies at Each Age', 'Avg Delinquencies', 'Age')"
   ]
  },
  {
   "cell_type": "markdown",
   "metadata": {},
   "source": [
    "## Generate Features/Predictors"
   ]
  },
  {
   "cell_type": "code",
   "execution_count": 17,
   "metadata": {},
   "outputs": [],
   "source": [
    "def add_dummy_variable(df, var, dummy_var, lambda_eq):\n",
    "    '''\n",
    "    Adds a column with a dummy variable based on a column currently in the data frame. \n",
    "    \n",
    "    Inputs:\n",
    "        df (pandas data frame): the pandas data frame that contains the current data and variable and that the \n",
    "        dummy variable will be added to\n",
    "        var (str): column name of origin variable\n",
    "        dummy_var (str): column name for dummy variable\n",
    "        lambda_eq (lambda equation): equation in the form 'lambda x: x < 23550' to turn the 'var' into the 'dummy_var'\n",
    "    '''\n",
    "    \n",
    "    df[dummy_var] = df[var].apply(lambda_eq)"
   ]
  },
  {
   "cell_type": "code",
   "execution_count": 18,
   "metadata": {},
   "outputs": [],
   "source": [
    "def add_discrete_variable(df, var, discrete_var, num_categories):\n",
    "    '''\n",
    "    Adds a column with a discretized variable based on a column currently in the data frame. \n",
    "    \n",
    "    Inputs:\n",
    "        df (pandas data frame): the pandas data frame that contains the current data and variable and that the \n",
    "        dummy variable will be added to\n",
    "        var (str): column name of origin variable\n",
    "        discrete_var (str): column name for discretized variable\n",
    "        num_categories (int): the number of categories to divide the 'var' into. \n",
    "    '''\n",
    "    \n",
    "    df[discrete_var] = pd.cut(df[var], num_categories)"
   ]
  },
  {
   "cell_type": "code",
   "execution_count": 19,
   "metadata": {},
   "outputs": [],
   "source": [
    "main_plus = main.copy()"
   ]
  },
  {
   "cell_type": "code",
   "execution_count": 20,
   "metadata": {},
   "outputs": [],
   "source": [
    "add_dummy_variable(main_plus, 'MonthlyIncome', 'Impoverished', lambda x: x < 23550)"
   ]
  },
  {
   "cell_type": "code",
   "execution_count": 21,
   "metadata": {},
   "outputs": [
    {
     "name": "stdout",
     "output_type": "stream",
     "text": [
      "99.0% of the people in this study have an income below the poverty line for a family of 4.\n"
     ]
    }
   ],
   "source": [
    "grouped_stats = main_plus.groupby('Impoverished').count().PersonID\n",
    "not_impoverished, impoverished = grouped_stats[0], grouped_stats[1]\n",
    "total = main_plus.shape[0]\n",
    "percent_in_poverty = str(round((impoverished/total)*100))\n",
    "print(percent_in_poverty + \"% of the people in this study have an income below the poverty line for a family of 4.\")"
   ]
  },
  {
   "cell_type": "code",
   "execution_count": 22,
   "metadata": {},
   "outputs": [],
   "source": [
    "add_discrete_variable(main_plus, 'NumberOfTimes90DaysLate', 'Discrete NumberOfTimes90DaysLate', 200)"
   ]
  },
  {
   "cell_type": "code",
   "execution_count": 23,
   "metadata": {},
   "outputs": [
    {
     "data": {
      "text/html": [
       "<div>\n",
       "<style scoped>\n",
       "    .dataframe tbody tr th:only-of-type {\n",
       "        vertical-align: middle;\n",
       "    }\n",
       "\n",
       "    .dataframe tbody tr th {\n",
       "        vertical-align: top;\n",
       "    }\n",
       "\n",
       "    .dataframe thead th {\n",
       "        text-align: right;\n",
       "    }\n",
       "</style>\n",
       "<table border=\"1\" class=\"dataframe\">\n",
       "  <thead>\n",
       "    <tr style=\"text-align: right;\">\n",
       "      <th></th>\n",
       "      <th>PersonID</th>\n",
       "      <th>SeriousDlqin2yrs</th>\n",
       "      <th>RevolvingUtilizationOfUnsecuredLines</th>\n",
       "      <th>age</th>\n",
       "      <th>zipcode</th>\n",
       "      <th>NumberOfTime30-59DaysPastDueNotWorse</th>\n",
       "      <th>DebtRatio</th>\n",
       "      <th>MonthlyIncome</th>\n",
       "      <th>NumberOfOpenCreditLinesAndLoans</th>\n",
       "      <th>NumberOfTimes90DaysLate</th>\n",
       "      <th>NumberRealEstateLoansOrLines</th>\n",
       "      <th>NumberOfTime60-89DaysPastDueNotWorse</th>\n",
       "      <th>NumberOfDependents</th>\n",
       "      <th>Impoverished</th>\n",
       "      <th>Discrete NumberOfTimes90DaysLate</th>\n",
       "    </tr>\n",
       "  </thead>\n",
       "  <tbody>\n",
       "    <tr>\n",
       "      <th>0</th>\n",
       "      <td>98976</td>\n",
       "      <td>0</td>\n",
       "      <td>1.000000</td>\n",
       "      <td>55</td>\n",
       "      <td>60601</td>\n",
       "      <td>0</td>\n",
       "      <td>505.000000</td>\n",
       "      <td>0.0</td>\n",
       "      <td>2</td>\n",
       "      <td>0</td>\n",
       "      <td>0</td>\n",
       "      <td>0</td>\n",
       "      <td>0.0</td>\n",
       "      <td>True</td>\n",
       "      <td>(-0.098, 0.49]</td>\n",
       "    </tr>\n",
       "    <tr>\n",
       "      <th>1</th>\n",
       "      <td>98991</td>\n",
       "      <td>0</td>\n",
       "      <td>0.547745</td>\n",
       "      <td>71</td>\n",
       "      <td>60601</td>\n",
       "      <td>0</td>\n",
       "      <td>0.459565</td>\n",
       "      <td>15666.0</td>\n",
       "      <td>7</td>\n",
       "      <td>0</td>\n",
       "      <td>2</td>\n",
       "      <td>0</td>\n",
       "      <td>0.0</td>\n",
       "      <td>True</td>\n",
       "      <td>(-0.098, 0.49]</td>\n",
       "    </tr>\n",
       "    <tr>\n",
       "      <th>2</th>\n",
       "      <td>99012</td>\n",
       "      <td>0</td>\n",
       "      <td>0.044280</td>\n",
       "      <td>51</td>\n",
       "      <td>60601</td>\n",
       "      <td>0</td>\n",
       "      <td>0.014520</td>\n",
       "      <td>4200.0</td>\n",
       "      <td>5</td>\n",
       "      <td>0</td>\n",
       "      <td>0</td>\n",
       "      <td>0</td>\n",
       "      <td>0.0</td>\n",
       "      <td>True</td>\n",
       "      <td>(-0.098, 0.49]</td>\n",
       "    </tr>\n",
       "    <tr>\n",
       "      <th>3</th>\n",
       "      <td>99023</td>\n",
       "      <td>0</td>\n",
       "      <td>0.914249</td>\n",
       "      <td>55</td>\n",
       "      <td>60601</td>\n",
       "      <td>4</td>\n",
       "      <td>0.794875</td>\n",
       "      <td>9052.0</td>\n",
       "      <td>12</td>\n",
       "      <td>0</td>\n",
       "      <td>3</td>\n",
       "      <td>0</td>\n",
       "      <td>0.0</td>\n",
       "      <td>True</td>\n",
       "      <td>(-0.098, 0.49]</td>\n",
       "    </tr>\n",
       "    <tr>\n",
       "      <th>4</th>\n",
       "      <td>99027</td>\n",
       "      <td>0</td>\n",
       "      <td>0.026599</td>\n",
       "      <td>45</td>\n",
       "      <td>60601</td>\n",
       "      <td>0</td>\n",
       "      <td>0.049966</td>\n",
       "      <td>10406.0</td>\n",
       "      <td>4</td>\n",
       "      <td>0</td>\n",
       "      <td>0</td>\n",
       "      <td>0</td>\n",
       "      <td>2.0</td>\n",
       "      <td>True</td>\n",
       "      <td>(-0.098, 0.49]</td>\n",
       "    </tr>\n",
       "  </tbody>\n",
       "</table>\n",
       "</div>"
      ],
      "text/plain": [
       "   PersonID  SeriousDlqin2yrs  RevolvingUtilizationOfUnsecuredLines  age  \\\n",
       "0     98976                 0                              1.000000   55   \n",
       "1     98991                 0                              0.547745   71   \n",
       "2     99012                 0                              0.044280   51   \n",
       "3     99023                 0                              0.914249   55   \n",
       "4     99027                 0                              0.026599   45   \n",
       "\n",
       "   zipcode  NumberOfTime30-59DaysPastDueNotWorse   DebtRatio  MonthlyIncome  \\\n",
       "0    60601                                     0  505.000000            0.0   \n",
       "1    60601                                     0    0.459565        15666.0   \n",
       "2    60601                                     0    0.014520         4200.0   \n",
       "3    60601                                     4    0.794875         9052.0   \n",
       "4    60601                                     0    0.049966        10406.0   \n",
       "\n",
       "   NumberOfOpenCreditLinesAndLoans  NumberOfTimes90DaysLate  \\\n",
       "0                                2                        0   \n",
       "1                                7                        0   \n",
       "2                                5                        0   \n",
       "3                               12                        0   \n",
       "4                                4                        0   \n",
       "\n",
       "   NumberRealEstateLoansOrLines  NumberOfTime60-89DaysPastDueNotWorse  \\\n",
       "0                             0                                     0   \n",
       "1                             2                                     0   \n",
       "2                             0                                     0   \n",
       "3                             3                                     0   \n",
       "4                             0                                     0   \n",
       "\n",
       "   NumberOfDependents  Impoverished Discrete NumberOfTimes90DaysLate  \n",
       "0                 0.0          True                   (-0.098, 0.49]  \n",
       "1                 0.0          True                   (-0.098, 0.49]  \n",
       "2                 0.0          True                   (-0.098, 0.49]  \n",
       "3                 0.0          True                   (-0.098, 0.49]  \n",
       "4                 2.0          True                   (-0.098, 0.49]  "
      ]
     },
     "execution_count": 23,
     "metadata": {},
     "output_type": "execute_result"
    }
   ],
   "source": [
    "main_plus.head()"
   ]
  },
  {
   "cell_type": "markdown",
   "metadata": {},
   "source": [
    "## Build Classifier"
   ]
  },
  {
   "cell_type": "code",
   "execution_count": 24,
   "metadata": {},
   "outputs": [],
   "source": [
    "def divide_df(df, var, test_size = 0.3):\n",
    "    '''\n",
    "    Divides a data frame into testing and training data frames\n",
    "    \n",
    "    Inputs:\n",
    "        df (pandas data frame): original data frame\n",
    "        var (string): column name for dependent variable\n",
    "        test_size (int): weighting for test vs. train division\n",
    "        \n",
    "    Outputs:\n",
    "        x_train, x_test, y_train, y_test = divided data frames to use for classification      \n",
    "    '''\n",
    "    \n",
    "    x = df\n",
    "    y = df[var]\n",
    "    test_size = 0.3\n",
    "    x_train, x_test, y_train, y_test = train_test_split(x, y, test_size=test_size)\n",
    "    \n",
    "    return x_train, x_test, y_train, y_test"
   ]
  },
  {
   "cell_type": "code",
   "execution_count": 25,
   "metadata": {},
   "outputs": [],
   "source": [
    "x_train, x_test, y_train, y_test = divide_df(main, 'SeriousDlqin2yrs', test_size = 0.3)"
   ]
  },
  {
   "cell_type": "markdown",
   "metadata": {},
   "source": [
    "#### K Nearest Neighbors"
   ]
  },
  {
   "cell_type": "code",
   "execution_count": 28,
   "metadata": {},
   "outputs": [],
   "source": [
    "def find_best_n(max_n, max_params, x_train, y_train, x_test, y_test, metric='minkowski'):\n",
    "    '''\n",
    "    Finds the optimal number of neighbors and parameters to look at when conducting a \n",
    "    K-nearest neighbors classification.\n",
    "    \n",
    "    Inputs:\n",
    "        max_n (int): maximum number of k-neighbors\n",
    "        max_params (int): maximum number of metric parameters\n",
    "        metric (str): distance metric\n",
    "        x_train, y_train, x_test, y_test (pandas data frames): divided data frames to conduct\n",
    "            training and testing\n",
    "            \n",
    "    Output:\n",
    "        KNeighborsClassifier function with the optimal parameters for the given data. \n",
    "    '''\n",
    "    \n",
    "    best_score, best_n, best_mp = 0, 0, 0\n",
    "    for n in range(1, max_n+1):\n",
    "        for mp in range(1, max_params+1):\n",
    "            knn = KNeighborsClassifier(n_neighbors=n, metric=metric, metric_params={'p': mp})\n",
    "            knn.fit(x_train, y_train)\n",
    "            s = knn.score(x_test, y_test)\n",
    "            if s > best_score:\n",
    "                best_n = n\n",
    "                best_mp = mp\n",
    "            \n",
    "    print(\"The optimal value for k is \" + str(best_n) + \" with \" + str(best_mp) + \" metric parameters. \")\n",
    "    return KNeighborsClassifier(n_neighbors=best_n, metric=metric, metric_params={'p': best_mp})"
   ]
  },
  {
   "cell_type": "code",
   "execution_count": 29,
   "metadata": {},
   "outputs": [
    {
     "name": "stderr",
     "output_type": "stream",
     "text": [
      "/Library/Frameworks/Python.framework/Versions/3.6/lib/python3.6/site-packages/ipykernel_launcher.py:20: SyntaxWarning: Parameter p is found in metric_params. The corresponding parameter from __init__ is ignored.\n"
     ]
    },
    {
     "name": "stdout",
     "output_type": "stream",
     "text": [
      "The optimal value for k is 10 with 10 metric parameters. \n"
     ]
    },
    {
     "name": "stderr",
     "output_type": "stream",
     "text": [
      "/Library/Frameworks/Python.framework/Versions/3.6/lib/python3.6/site-packages/ipykernel_launcher.py:28: SyntaxWarning: Parameter p is found in metric_params. The corresponding parameter from __init__ is ignored.\n"
     ]
    },
    {
     "data": {
      "text/plain": [
       "KNeighborsClassifier(algorithm='auto', leaf_size=30, metric='minkowski',\n",
       "           metric_params={'p': 10}, n_jobs=1, n_neighbors=10, p=2,\n",
       "           weights='uniform')"
      ]
     },
     "execution_count": 29,
     "metadata": {},
     "output_type": "execute_result"
    }
   ],
   "source": [
    "knn = find_best_n(10, 10, x_train, y_train, x_test, y_test, 'minkowski')\n",
    "knn.fit(x_train, y_train)"
   ]
  },
  {
   "cell_type": "markdown",
   "metadata": {},
   "source": [
    "#### Neural Net"
   ]
  },
  {
   "cell_type": "code",
   "execution_count": 30,
   "metadata": {},
   "outputs": [
    {
     "name": "stdout",
     "output_type": "stream",
     "text": [
      "The number of hidden layers is 1\n"
     ]
    }
   ],
   "source": [
    "nn = sklearn.neural_network.MLPClassifier()\n",
    "nn.fit(x_train, y_train)\n",
    "print(\"The number of hidden layers is\", nn.n_layers_ - 2)"
   ]
  },
  {
   "cell_type": "markdown",
   "metadata": {},
   "source": [
    "## Evaluate Classifier"
   ]
  },
  {
   "cell_type": "code",
   "execution_count": 31,
   "metadata": {},
   "outputs": [],
   "source": [
    "def evaluate_classifier(classifier, x_train, y_train, x_test, y_test):\n",
    "    '''\n",
    "    Evaluates a classifier using sklearn's .score function\n",
    "    \n",
    "    Inputs:\n",
    "        classifier: the classifier that has been set up for analysis\n",
    "        x_train, y_train, x_test, y_test (pandas data frames): divided data frames to conduct\n",
    "            training and testing\n",
    "    '''\n",
    "    \n",
    "    print('Training: ')\n",
    "    print(classifier.score(x_train, y_train))\n",
    "    print('Testing: ')\n",
    "    print(classifier.score(x_test, y_test))"
   ]
  },
  {
   "cell_type": "code",
   "execution_count": 32,
   "metadata": {},
   "outputs": [],
   "source": [
    "eval_classified = x_test.copy()"
   ]
  },
  {
   "cell_type": "markdown",
   "metadata": {},
   "source": [
    "#### K Nearest Neighbors\n"
   ]
  },
  {
   "cell_type": "code",
   "execution_count": 33,
   "metadata": {},
   "outputs": [
    {
     "name": "stdout",
     "output_type": "stream",
     "text": [
      "Training: \n",
      "0.943296994183\n",
      "Testing: \n",
      "0.943031288094\n"
     ]
    }
   ],
   "source": [
    "evaluate_classifier(knn, x_train, y_train, x_test, y_test)"
   ]
  },
  {
   "cell_type": "code",
   "execution_count": 34,
   "metadata": {},
   "outputs": [],
   "source": [
    "eval_classified['KNN Probability'] = list(knn.predict_proba(x_test))"
   ]
  },
  {
   "cell_type": "markdown",
   "metadata": {},
   "source": [
    "#### Neural Net"
   ]
  },
  {
   "cell_type": "code",
   "execution_count": 35,
   "metadata": {},
   "outputs": [
    {
     "name": "stdout",
     "output_type": "stream",
     "text": [
      "Training: \n",
      "0.931628992372\n",
      "Testing: \n",
      "0.930028443722\n"
     ]
    }
   ],
   "source": [
    "evaluate_classifier(nn, x_train, y_train, x_test, y_test)"
   ]
  },
  {
   "cell_type": "code",
   "execution_count": 36,
   "metadata": {},
   "outputs": [],
   "source": [
    "eval_classified['Neural Net Probability'] = list(nn.predict_proba(x_test))"
   ]
  },
  {
   "cell_type": "code",
   "execution_count": 37,
   "metadata": {},
   "outputs": [
    {
     "data": {
      "text/html": [
       "<div>\n",
       "<style scoped>\n",
       "    .dataframe tbody tr th:only-of-type {\n",
       "        vertical-align: middle;\n",
       "    }\n",
       "\n",
       "    .dataframe tbody tr th {\n",
       "        vertical-align: top;\n",
       "    }\n",
       "\n",
       "    .dataframe thead th {\n",
       "        text-align: right;\n",
       "    }\n",
       "</style>\n",
       "<table border=\"1\" class=\"dataframe\">\n",
       "  <thead>\n",
       "    <tr style=\"text-align: right;\">\n",
       "      <th></th>\n",
       "      <th>PersonID</th>\n",
       "      <th>KNN Probability</th>\n",
       "      <th>Neural Net Probability</th>\n",
       "    </tr>\n",
       "  </thead>\n",
       "  <tbody>\n",
       "    <tr>\n",
       "      <th>10282</th>\n",
       "      <td>137074</td>\n",
       "      <td>[0.9, 0.1]</td>\n",
       "      <td>[1.0, 0.0]</td>\n",
       "    </tr>\n",
       "    <tr>\n",
       "      <th>15061</th>\n",
       "      <td>109660</td>\n",
       "      <td>[1.0, 0.0]</td>\n",
       "      <td>[1.0, 0.0]</td>\n",
       "    </tr>\n",
       "    <tr>\n",
       "      <th>26385</th>\n",
       "      <td>106157</td>\n",
       "      <td>[1.0, 0.0]</td>\n",
       "      <td>[1.0, 0.0]</td>\n",
       "    </tr>\n",
       "    <tr>\n",
       "      <th>17889</th>\n",
       "      <td>122933</td>\n",
       "      <td>[0.9, 0.1]</td>\n",
       "      <td>[1.0, 0.0]</td>\n",
       "    </tr>\n",
       "    <tr>\n",
       "      <th>20508</th>\n",
       "      <td>135759</td>\n",
       "      <td>[1.0, 0.0]</td>\n",
       "      <td>[1.0, 0.0]</td>\n",
       "    </tr>\n",
       "  </tbody>\n",
       "</table>\n",
       "</div>"
      ],
      "text/plain": [
       "       PersonID KNN Probability Neural Net Probability\n",
       "10282    137074      [0.9, 0.1]             [1.0, 0.0]\n",
       "15061    109660      [1.0, 0.0]             [1.0, 0.0]\n",
       "26385    106157      [1.0, 0.0]             [1.0, 0.0]\n",
       "17889    122933      [0.9, 0.1]             [1.0, 0.0]\n",
       "20508    135759      [1.0, 0.0]             [1.0, 0.0]"
      ]
     },
     "execution_count": 37,
     "metadata": {},
     "output_type": "execute_result"
    }
   ],
   "source": [
    "eval_classified = eval_classified[['PersonID', 'KNN Probability', 'Neural Net Probability']]\n",
    "eval_classified.head()"
   ]
  }
 ],
 "metadata": {
  "kernelspec": {
   "display_name": "Python 3",
   "language": "python",
   "name": "python3"
  },
  "language_info": {
   "codemirror_mode": {
    "name": "ipython",
    "version": 3
   },
   "file_extension": ".py",
   "mimetype": "text/x-python",
   "name": "python",
   "nbconvert_exporter": "python",
   "pygments_lexer": "ipython3",
   "version": "3.6.4"
  }
 },
 "nbformat": 4,
 "nbformat_minor": 2
}
