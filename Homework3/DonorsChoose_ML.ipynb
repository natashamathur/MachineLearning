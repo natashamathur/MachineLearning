{
 "cells": [
  {
   "cell_type": "code",
   "execution_count": 4,
   "metadata": {},
   "outputs": [],
   "source": [
    "import pipeline_functions as pf\n",
    "import math\n",
    "import pandas as pd\n",
    "import numpy as np\n",
    "import matplotlib.pyplot as plt\n",
    "\n",
    "import sklearn\n",
    "import sklearn.naive_bayes\n",
    "import sklearn.neural_network\n",
    "from sklearn.neighbors import KNeighborsClassifier\n",
    "from sklearn.model_selection import train_test_split\n",
    "\n",
    "import seaborn as sns"
   ]
  },
  {
   "cell_type": "markdown",
   "metadata": {},
   "source": [
    "## Data Loading and Dataframe Creation"
   ]
  },
  {
   "cell_type": "code",
   "execution_count": 39,
   "metadata": {},
   "outputs": [],
   "source": [
    "#to load\n",
    "\n",
    "def specify_range(df, col, min, max):\n",
    "    ''' \n",
    "    Narrow down a data frame based on a range for a given column\n",
    "    \n",
    "    Inputs:\n",
    "        df (data frame): dataframe to narrow down\n",
    "        col (data frame column name, str): column to find range in\n",
    "        min, max: minimum and maximum values for range. Can be str or int depending on column type \n",
    "    '''\n",
    "    output_df = df.loc[(df[col] >= min) & (df[col] <= max)]\n",
    "    return output_df\n",
    "\n",
    "all_projects = pf.read_csv('projects.csv')\n",
    "outcomes = pf.read_csv('outcomes.csv')\n",
    "\n",
    "projects = specify_range(all_projects, 'date_posted', '2011-01-01', '2013-12-31')\n",
    "combined = pd.merge(projects, outcomes, on='projectid')\n",
    "funded = combined.loc[combined.fully_funded=='t']\n",
    "not_funded = combined.loc[combined.fully_funded=='f']"
   ]
  },
  {
   "cell_type": "code",
   "execution_count": 5,
   "metadata": {},
   "outputs": [],
   "source": [
    "all_projects = pf.read_csv('projects.csv')\n",
    "outcomes = pf.read_csv('outcomes.csv')"
   ]
  },
  {
   "cell_type": "code",
   "execution_count": 6,
   "metadata": {},
   "outputs": [
    {
     "data": {
      "text/plain": [
       "('all_projects', (370039, 35), 'outcomes', (619326, 12))"
      ]
     },
     "execution_count": 6,
     "metadata": {},
     "output_type": "execute_result"
    }
   ],
   "source": [
    "\"all_projects\", all_projects.shape, \"outcomes\", outcomes.shape"
   ]
  },
  {
   "cell_type": "code",
   "execution_count": 7,
   "metadata": {},
   "outputs": [
    {
     "data": {
      "text/plain": [
       "Index(['projectid', 'teacher_acctid', 'schoolid', 'school_ncesid',\n",
       "       'school_latitude', 'school_longitude', 'school_city', 'school_state',\n",
       "       'school_zip', 'school_metro', 'school_district', 'school_county',\n",
       "       'school_charter', 'school_magnet', 'school_year_round', 'school_nlns',\n",
       "       'school_kipp', 'school_charter_ready_promise', 'teacher_prefix',\n",
       "       'teacher_teach_for_america', 'teacher_ny_teaching_fellow',\n",
       "       'primary_focus_subject', 'primary_focus_area',\n",
       "       'secondary_focus_subject', 'secondary_focus_area', 'resource_type',\n",
       "       'poverty_level', 'grade_level', 'fulfillment_labor_materials',\n",
       "       'total_price_excluding_optional_support',\n",
       "       'total_price_including_optional_support', 'students_reached',\n",
       "       'eligible_double_your_impact_match', 'eligible_almost_home_match',\n",
       "       'date_posted'],\n",
       "      dtype='object')"
      ]
     },
     "execution_count": 7,
     "metadata": {},
     "output_type": "execute_result"
    }
   ],
   "source": [
    "all_projects.columns"
   ]
  },
  {
   "cell_type": "code",
   "execution_count": 8,
   "metadata": {},
   "outputs": [
    {
     "data": {
      "text/html": [
       "<div>\n",
       "<style scoped>\n",
       "    .dataframe tbody tr th:only-of-type {\n",
       "        vertical-align: middle;\n",
       "    }\n",
       "\n",
       "    .dataframe tbody tr th {\n",
       "        vertical-align: top;\n",
       "    }\n",
       "\n",
       "    .dataframe thead th {\n",
       "        text-align: right;\n",
       "    }\n",
       "</style>\n",
       "<table border=\"1\" class=\"dataframe\">\n",
       "  <thead>\n",
       "    <tr style=\"text-align: right;\">\n",
       "      <th></th>\n",
       "      <th>projectid</th>\n",
       "      <th>teacher_acctid</th>\n",
       "      <th>schoolid</th>\n",
       "      <th>school_ncesid</th>\n",
       "      <th>school_latitude</th>\n",
       "      <th>school_longitude</th>\n",
       "      <th>school_city</th>\n",
       "      <th>school_state</th>\n",
       "      <th>school_zip</th>\n",
       "      <th>school_metro</th>\n",
       "      <th>...</th>\n",
       "      <th>resource_type</th>\n",
       "      <th>poverty_level</th>\n",
       "      <th>grade_level</th>\n",
       "      <th>fulfillment_labor_materials</th>\n",
       "      <th>total_price_excluding_optional_support</th>\n",
       "      <th>total_price_including_optional_support</th>\n",
       "      <th>students_reached</th>\n",
       "      <th>eligible_double_your_impact_match</th>\n",
       "      <th>eligible_almost_home_match</th>\n",
       "      <th>date_posted</th>\n",
       "    </tr>\n",
       "  </thead>\n",
       "  <tbody>\n",
       "    <tr>\n",
       "      <th>0</th>\n",
       "      <td>316ed8fb3b81402ff6ac8f721bb31192</td>\n",
       "      <td>42d43fa6f37314365d08692e08680973</td>\n",
       "      <td>c0e6ce89b244764085691a1b8e28cb81</td>\n",
       "      <td>6.362701e+10</td>\n",
       "      <td>36.576340</td>\n",
       "      <td>-119.608713</td>\n",
       "      <td>Selma</td>\n",
       "      <td>CA</td>\n",
       "      <td>93662.0</td>\n",
       "      <td>NaN</td>\n",
       "      <td>...</td>\n",
       "      <td>Books</td>\n",
       "      <td>highest poverty</td>\n",
       "      <td>Grades 6-8</td>\n",
       "      <td>30.0</td>\n",
       "      <td>555.81</td>\n",
       "      <td>653.89</td>\n",
       "      <td>32.0</td>\n",
       "      <td>f</td>\n",
       "      <td>f</td>\n",
       "      <td>2014-05-12</td>\n",
       "    </tr>\n",
       "    <tr>\n",
       "      <th>1</th>\n",
       "      <td>90de744e368a7e4883223ca49318ae30</td>\n",
       "      <td>864eb466462bf704bf7a16a585ef296a</td>\n",
       "      <td>d711e47810900c96f26a5d0be30c446d</td>\n",
       "      <td>4.837020e+11</td>\n",
       "      <td>32.911179</td>\n",
       "      <td>-96.723640</td>\n",
       "      <td>Dallas</td>\n",
       "      <td>TX</td>\n",
       "      <td>75243.0</td>\n",
       "      <td>urban</td>\n",
       "      <td>...</td>\n",
       "      <td>Books</td>\n",
       "      <td>highest poverty</td>\n",
       "      <td>Grades PreK-2</td>\n",
       "      <td>30.0</td>\n",
       "      <td>296.47</td>\n",
       "      <td>348.79</td>\n",
       "      <td>22.0</td>\n",
       "      <td>f</td>\n",
       "      <td>f</td>\n",
       "      <td>2014-05-12</td>\n",
       "    </tr>\n",
       "    <tr>\n",
       "      <th>2</th>\n",
       "      <td>32943bb1063267de6ed19fc0ceb4b9a7</td>\n",
       "      <td>37f85135259ece793213aca9d8765542</td>\n",
       "      <td>665c3613013ba0a66e3a2a26b89f1b68</td>\n",
       "      <td>4.103270e+11</td>\n",
       "      <td>45.166039</td>\n",
       "      <td>-122.414576</td>\n",
       "      <td>Colton</td>\n",
       "      <td>OR</td>\n",
       "      <td>97017.0</td>\n",
       "      <td>rural</td>\n",
       "      <td>...</td>\n",
       "      <td>Technology</td>\n",
       "      <td>high poverty</td>\n",
       "      <td>Grades PreK-2</td>\n",
       "      <td>30.0</td>\n",
       "      <td>430.89</td>\n",
       "      <td>506.93</td>\n",
       "      <td>17.0</td>\n",
       "      <td>f</td>\n",
       "      <td>f</td>\n",
       "      <td>2014-05-11</td>\n",
       "    </tr>\n",
       "    <tr>\n",
       "      <th>3</th>\n",
       "      <td>bb18f409abda2f264d5acda8cab577a9</td>\n",
       "      <td>2133fc46f951f1e7d60645b0f9e48a6c</td>\n",
       "      <td>4f12c3fa0c1cce823c7ba1df57e90ccb</td>\n",
       "      <td>3.600153e+11</td>\n",
       "      <td>40.641727</td>\n",
       "      <td>-73.965655</td>\n",
       "      <td>Brooklyn</td>\n",
       "      <td>NY</td>\n",
       "      <td>11226.0</td>\n",
       "      <td>urban</td>\n",
       "      <td>...</td>\n",
       "      <td>Books</td>\n",
       "      <td>highest poverty</td>\n",
       "      <td>Grades 3-5</td>\n",
       "      <td>30.0</td>\n",
       "      <td>576.07</td>\n",
       "      <td>677.73</td>\n",
       "      <td>12.0</td>\n",
       "      <td>f</td>\n",
       "      <td>f</td>\n",
       "      <td>2014-05-11</td>\n",
       "    </tr>\n",
       "    <tr>\n",
       "      <th>4</th>\n",
       "      <td>24761b686e18e5eace634607acbcc19f</td>\n",
       "      <td>867ff478a63f5457eaf41049536c47cd</td>\n",
       "      <td>10179fd362d7b8cf0e89baa1ca3025bb</td>\n",
       "      <td>6.227100e+10</td>\n",
       "      <td>34.043939</td>\n",
       "      <td>-118.288371</td>\n",
       "      <td>Los Angeles</td>\n",
       "      <td>CA</td>\n",
       "      <td>90006.0</td>\n",
       "      <td>urban</td>\n",
       "      <td>...</td>\n",
       "      <td>Other</td>\n",
       "      <td>highest poverty</td>\n",
       "      <td>Grades PreK-2</td>\n",
       "      <td>30.0</td>\n",
       "      <td>408.40</td>\n",
       "      <td>480.47</td>\n",
       "      <td>24.0</td>\n",
       "      <td>f</td>\n",
       "      <td>f</td>\n",
       "      <td>2014-05-11</td>\n",
       "    </tr>\n",
       "  </tbody>\n",
       "</table>\n",
       "<p>5 rows × 35 columns</p>\n",
       "</div>"
      ],
      "text/plain": [
       "                          projectid                    teacher_acctid  \\\n",
       "0  316ed8fb3b81402ff6ac8f721bb31192  42d43fa6f37314365d08692e08680973   \n",
       "1  90de744e368a7e4883223ca49318ae30  864eb466462bf704bf7a16a585ef296a   \n",
       "2  32943bb1063267de6ed19fc0ceb4b9a7  37f85135259ece793213aca9d8765542   \n",
       "3  bb18f409abda2f264d5acda8cab577a9  2133fc46f951f1e7d60645b0f9e48a6c   \n",
       "4  24761b686e18e5eace634607acbcc19f  867ff478a63f5457eaf41049536c47cd   \n",
       "\n",
       "                           schoolid  school_ncesid  school_latitude  \\\n",
       "0  c0e6ce89b244764085691a1b8e28cb81   6.362701e+10        36.576340   \n",
       "1  d711e47810900c96f26a5d0be30c446d   4.837020e+11        32.911179   \n",
       "2  665c3613013ba0a66e3a2a26b89f1b68   4.103270e+11        45.166039   \n",
       "3  4f12c3fa0c1cce823c7ba1df57e90ccb   3.600153e+11        40.641727   \n",
       "4  10179fd362d7b8cf0e89baa1ca3025bb   6.227100e+10        34.043939   \n",
       "\n",
       "   school_longitude  school_city school_state  school_zip school_metro  \\\n",
       "0       -119.608713        Selma           CA     93662.0          NaN   \n",
       "1        -96.723640       Dallas           TX     75243.0        urban   \n",
       "2       -122.414576       Colton           OR     97017.0        rural   \n",
       "3        -73.965655     Brooklyn           NY     11226.0        urban   \n",
       "4       -118.288371  Los Angeles           CA     90006.0        urban   \n",
       "\n",
       "      ...     resource_type    poverty_level    grade_level  \\\n",
       "0     ...             Books  highest poverty     Grades 6-8   \n",
       "1     ...             Books  highest poverty  Grades PreK-2   \n",
       "2     ...        Technology     high poverty  Grades PreK-2   \n",
       "3     ...             Books  highest poverty     Grades 3-5   \n",
       "4     ...             Other  highest poverty  Grades PreK-2   \n",
       "\n",
       "  fulfillment_labor_materials total_price_excluding_optional_support  \\\n",
       "0                        30.0                                 555.81   \n",
       "1                        30.0                                 296.47   \n",
       "2                        30.0                                 430.89   \n",
       "3                        30.0                                 576.07   \n",
       "4                        30.0                                 408.40   \n",
       "\n",
       "  total_price_including_optional_support students_reached  \\\n",
       "0                                 653.89             32.0   \n",
       "1                                 348.79             22.0   \n",
       "2                                 506.93             17.0   \n",
       "3                                 677.73             12.0   \n",
       "4                                 480.47             24.0   \n",
       "\n",
       "  eligible_double_your_impact_match eligible_almost_home_match date_posted  \n",
       "0                                 f                          f  2014-05-12  \n",
       "1                                 f                          f  2014-05-12  \n",
       "2                                 f                          f  2014-05-11  \n",
       "3                                 f                          f  2014-05-11  \n",
       "4                                 f                          f  2014-05-11  \n",
       "\n",
       "[5 rows x 35 columns]"
      ]
     },
     "execution_count": 8,
     "metadata": {},
     "output_type": "execute_result"
    }
   ],
   "source": [
    "all_projects.head()"
   ]
  },
  {
   "cell_type": "code",
   "execution_count": 9,
   "metadata": {},
   "outputs": [
    {
     "data": {
      "text/plain": [
       "Index(['projectid', 'is_exciting', 'at_least_1_teacher_referred_donor',\n",
       "       'fully_funded', 'at_least_1_green_donation', 'great_chat',\n",
       "       'three_or_more_non_teacher_referred_donors',\n",
       "       'one_non_teacher_referred_donor_giving_100_plus',\n",
       "       'donation_from_thoughtful_donor', 'great_messages_proportion',\n",
       "       'teacher_referred_count', 'non_teacher_referred_count'],\n",
       "      dtype='object')"
      ]
     },
     "execution_count": 9,
     "metadata": {},
     "output_type": "execute_result"
    }
   ],
   "source": [
    "outcomes.columns"
   ]
  },
  {
   "cell_type": "markdown",
   "metadata": {},
   "source": [
    "Narrow down dataframes to only use project data from 2011 to 2013"
   ]
  },
  {
   "cell_type": "code",
   "execution_count": 11,
   "metadata": {},
   "outputs": [
    {
     "data": {
      "text/plain": [
       "('2011-03-29', '2013-12-31')"
      ]
     },
     "execution_count": 11,
     "metadata": {},
     "output_type": "execute_result"
    }
   ],
   "source": [
    "projects = specify_range(all_projects, 'date_posted', '2011-01-01', '2013-12-31')\n",
    "projects.date_posted.min(), projects.date_posted.max()"
   ]
  },
  {
   "cell_type": "markdown",
   "metadata": {},
   "source": [
    "Merge the projects and outcomes data frame together based on project ID"
   ]
  },
  {
   "cell_type": "code",
   "execution_count": 12,
   "metadata": {},
   "outputs": [
    {
     "data": {
      "text/plain": [
       "Index(['projectid', 'teacher_acctid', 'schoolid', 'school_ncesid',\n",
       "       'school_latitude', 'school_longitude', 'school_city', 'school_state',\n",
       "       'school_zip', 'school_metro', 'school_district', 'school_county',\n",
       "       'school_charter', 'school_magnet', 'school_year_round', 'school_nlns',\n",
       "       'school_kipp', 'school_charter_ready_promise', 'teacher_prefix',\n",
       "       'teacher_teach_for_america', 'teacher_ny_teaching_fellow',\n",
       "       'primary_focus_subject', 'primary_focus_area',\n",
       "       'secondary_focus_subject', 'secondary_focus_area', 'resource_type',\n",
       "       'poverty_level', 'grade_level', 'fulfillment_labor_materials',\n",
       "       'total_price_excluding_optional_support',\n",
       "       'total_price_including_optional_support', 'students_reached',\n",
       "       'eligible_double_your_impact_match', 'eligible_almost_home_match',\n",
       "       'date_posted', 'is_exciting', 'at_least_1_teacher_referred_donor',\n",
       "       'fully_funded', 'at_least_1_green_donation', 'great_chat',\n",
       "       'three_or_more_non_teacher_referred_donors',\n",
       "       'one_non_teacher_referred_donor_giving_100_plus',\n",
       "       'donation_from_thoughtful_donor', 'great_messages_proportion',\n",
       "       'teacher_referred_count', 'non_teacher_referred_count'],\n",
       "      dtype='object')"
      ]
     },
     "execution_count": 12,
     "metadata": {},
     "output_type": "execute_result"
    }
   ],
   "source": [
    "combined = pd.merge(projects, outcomes, on='projectid')\n",
    "combined.columns"
   ]
  },
  {
   "cell_type": "markdown",
   "metadata": {},
   "source": [
    "Create a dataframe of all the projects that were fully funded vs not funded. "
   ]
  },
  {
   "cell_type": "code",
   "execution_count": 13,
   "metadata": {},
   "outputs": [
    {
     "data": {
      "text/plain": [
       "(229762, 46)"
      ]
     },
     "execution_count": 13,
     "metadata": {},
     "output_type": "execute_result"
    }
   ],
   "source": [
    "funded = combined.loc[combined.fully_funded=='t']\n",
    "funded.shape"
   ]
  },
  {
   "cell_type": "code",
   "execution_count": 14,
   "metadata": {},
   "outputs": [
    {
     "data": {
      "text/plain": [
       "(95504, 46)"
      ]
     },
     "execution_count": 14,
     "metadata": {},
     "output_type": "execute_result"
    }
   ],
   "source": [
    "not_funded = combined.loc[combined.fully_funded=='f']\n",
    "not_funded.shape"
   ]
  },
  {
   "cell_type": "markdown",
   "metadata": {},
   "source": [
    "## Data Exploration & Pre-Processing"
   ]
  },
  {
   "cell_type": "code",
   "execution_count": 41,
   "metadata": {},
   "outputs": [],
   "source": [
    "# to load\n",
    "\n",
    "def find_top(df, col_of_interest, sort_by='projectid', ascending=False):\n",
    "    '''\n",
    "    Find the most common (or least) values in a given column\n",
    "    \n",
    "    Inputs:\n",
    "        df (pandas dataframe): dataframe of interest\n",
    "        col (str): name of column of interest\n",
    "        sort_by (pandas series): column to sort dataframe by\n",
    "        ascending: default to False, will show highest values \n",
    "        \n",
    "    Output:\n",
    "        output (pandas dataframe): Sorted pandas dataframe\n",
    "    '''\n",
    "    grouped = df.groupby(col_of_interest, sort=False).count()\n",
    "    \n",
    "    return grouped.sort_values(by=sort_by, ascending=False)\n",
    "\n",
    "funded_by_state = find_top(funded, 'school_state')\n",
    "funded_by_state.projectid.head()\n",
    "limstate = funded_by_state['projectid'].head(10)\n",
    "\n",
    "by_focus_area = find_top(projects, 'primary_focus_area')\n",
    "limfocus = by_focus_area['projectid'].head(5)\n",
    "\n",
    "find_top(combined, 'fully_funded')\n",
    "ff_labels = [\"Yes\", \"No\"]\n",
    "ff_vals = [247698, 105453]"
   ]
  },
  {
   "cell_type": "code",
   "execution_count": 60,
   "metadata": {},
   "outputs": [
    {
     "data": {
      "text/html": [
       "<div>\n",
       "<style scoped>\n",
       "    .dataframe tbody tr th:only-of-type {\n",
       "        vertical-align: middle;\n",
       "    }\n",
       "\n",
       "    .dataframe tbody tr th {\n",
       "        vertical-align: top;\n",
       "    }\n",
       "\n",
       "    .dataframe thead th {\n",
       "        text-align: right;\n",
       "    }\n",
       "</style>\n",
       "<table border=\"1\" class=\"dataframe\">\n",
       "  <thead>\n",
       "    <tr style=\"text-align: right;\">\n",
       "      <th></th>\n",
       "      <th>school_ncesid</th>\n",
       "      <th>school_latitude</th>\n",
       "      <th>school_longitude</th>\n",
       "      <th>school_zip</th>\n",
       "      <th>fulfillment_labor_materials</th>\n",
       "      <th>total_price_excluding_optional_support</th>\n",
       "      <th>total_price_including_optional_support</th>\n",
       "      <th>students_reached</th>\n",
       "    </tr>\n",
       "  </thead>\n",
       "  <tbody>\n",
       "    <tr>\n",
       "      <th>count</th>\n",
       "      <td>3.018980e+05</td>\n",
       "      <td>325266.000000</td>\n",
       "      <td>325266.000000</td>\n",
       "      <td>325266.000000</td>\n",
       "      <td>325266.000000</td>\n",
       "      <td>325266.000000</td>\n",
       "      <td>325266.000000</td>\n",
       "      <td>325165.000000</td>\n",
       "    </tr>\n",
       "    <tr>\n",
       "      <th>mean</th>\n",
       "      <td>2.496369e+11</td>\n",
       "      <td>36.903208</td>\n",
       "      <td>-95.706232</td>\n",
       "      <td>56866.907380</td>\n",
       "      <td>31.982009</td>\n",
       "      <td>537.309216</td>\n",
       "      <td>632.128512</td>\n",
       "      <td>94.567616</td>\n",
       "    </tr>\n",
       "    <tr>\n",
       "      <th>std</th>\n",
       "      <td>1.653664e+11</td>\n",
       "      <td>4.920718</td>\n",
       "      <td>18.203832</td>\n",
       "      <td>31074.688584</td>\n",
       "      <td>2.445752</td>\n",
       "      <td>862.927189</td>\n",
       "      <td>1015.208451</td>\n",
       "      <td>157.738063</td>\n",
       "    </tr>\n",
       "    <tr>\n",
       "      <th>min</th>\n",
       "      <td>1.000050e+10</td>\n",
       "      <td>18.249140</td>\n",
       "      <td>-171.690554</td>\n",
       "      <td>1001.000000</td>\n",
       "      <td>30.000000</td>\n",
       "      <td>37.030000</td>\n",
       "      <td>43.560000</td>\n",
       "      <td>1.000000</td>\n",
       "    </tr>\n",
       "    <tr>\n",
       "      <th>25%</th>\n",
       "      <td>6.351301e+10</td>\n",
       "      <td>33.923898</td>\n",
       "      <td>-117.698303</td>\n",
       "      <td>29483.000000</td>\n",
       "      <td>30.000000</td>\n",
       "      <td>290.560000</td>\n",
       "      <td>341.840000</td>\n",
       "      <td>23.000000</td>\n",
       "    </tr>\n",
       "    <tr>\n",
       "      <th>50%</th>\n",
       "      <td>2.314790e+11</td>\n",
       "      <td>36.755021</td>\n",
       "      <td>-90.036428</td>\n",
       "      <td>60632.000000</td>\n",
       "      <td>30.000000</td>\n",
       "      <td>430.320000</td>\n",
       "      <td>506.260000</td>\n",
       "      <td>31.000000</td>\n",
       "    </tr>\n",
       "    <tr>\n",
       "      <th>75%</th>\n",
       "      <td>3.904490e+11</td>\n",
       "      <td>40.681309</td>\n",
       "      <td>-80.767916</td>\n",
       "      <td>90012.000000</td>\n",
       "      <td>35.000000</td>\n",
       "      <td>615.827500</td>\n",
       "      <td>724.505000</td>\n",
       "      <td>100.000000</td>\n",
       "    </tr>\n",
       "    <tr>\n",
       "      <th>max</th>\n",
       "      <td>6.100008e+11</td>\n",
       "      <td>67.258157</td>\n",
       "      <td>-66.628036</td>\n",
       "      <td>99926.000000</td>\n",
       "      <td>35.000000</td>\n",
       "      <td>139725.410000</td>\n",
       "      <td>164382.840000</td>\n",
       "      <td>12143.000000</td>\n",
       "    </tr>\n",
       "  </tbody>\n",
       "</table>\n",
       "</div>"
      ],
      "text/plain": [
       "       school_ncesid  school_latitude  school_longitude     school_zip  \\\n",
       "count   3.018980e+05    325266.000000     325266.000000  325266.000000   \n",
       "mean    2.496369e+11        36.903208        -95.706232   56866.907380   \n",
       "std     1.653664e+11         4.920718         18.203832   31074.688584   \n",
       "min     1.000050e+10        18.249140       -171.690554    1001.000000   \n",
       "25%     6.351301e+10        33.923898       -117.698303   29483.000000   \n",
       "50%     2.314790e+11        36.755021        -90.036428   60632.000000   \n",
       "75%     3.904490e+11        40.681309        -80.767916   90012.000000   \n",
       "max     6.100008e+11        67.258157        -66.628036   99926.000000   \n",
       "\n",
       "       fulfillment_labor_materials  total_price_excluding_optional_support  \\\n",
       "count                325266.000000                           325266.000000   \n",
       "mean                     31.982009                              537.309216   \n",
       "std                       2.445752                              862.927189   \n",
       "min                      30.000000                               37.030000   \n",
       "25%                      30.000000                              290.560000   \n",
       "50%                      30.000000                              430.320000   \n",
       "75%                      35.000000                              615.827500   \n",
       "max                      35.000000                           139725.410000   \n",
       "\n",
       "       total_price_including_optional_support  students_reached  \n",
       "count                           325266.000000     325165.000000  \n",
       "mean                               632.128512         94.567616  \n",
       "std                               1015.208451        157.738063  \n",
       "min                                 43.560000          1.000000  \n",
       "25%                                341.840000         23.000000  \n",
       "50%                                506.260000         31.000000  \n",
       "75%                                724.505000        100.000000  \n",
       "max                             164382.840000      12143.000000  "
      ]
     },
     "execution_count": 60,
     "metadata": {},
     "output_type": "execute_result"
    }
   ],
   "source": [
    "projects.describe()"
   ]
  },
  {
   "cell_type": "code",
   "execution_count": 61,
   "metadata": {},
   "outputs": [
    {
     "data": {
      "text/html": [
       "<div>\n",
       "<style scoped>\n",
       "    .dataframe tbody tr th:only-of-type {\n",
       "        vertical-align: middle;\n",
       "    }\n",
       "\n",
       "    .dataframe tbody tr th {\n",
       "        vertical-align: top;\n",
       "    }\n",
       "\n",
       "    .dataframe thead th {\n",
       "        text-align: right;\n",
       "    }\n",
       "</style>\n",
       "<table border=\"1\" class=\"dataframe\">\n",
       "  <thead>\n",
       "    <tr style=\"text-align: right;\">\n",
       "      <th></th>\n",
       "      <th>great_messages_proportion</th>\n",
       "      <th>teacher_referred_count</th>\n",
       "      <th>non_teacher_referred_count</th>\n",
       "    </tr>\n",
       "  </thead>\n",
       "  <tbody>\n",
       "    <tr>\n",
       "      <th>count</th>\n",
       "      <td>439487.00000</td>\n",
       "      <td>524928.000000</td>\n",
       "      <td>524928.000000</td>\n",
       "    </tr>\n",
       "    <tr>\n",
       "      <th>mean</th>\n",
       "      <td>52.92709</td>\n",
       "      <td>0.777339</td>\n",
       "      <td>4.361290</td>\n",
       "    </tr>\n",
       "    <tr>\n",
       "      <th>std</th>\n",
       "      <td>35.71410</td>\n",
       "      <td>2.227933</td>\n",
       "      <td>5.668748</td>\n",
       "    </tr>\n",
       "    <tr>\n",
       "      <th>min</th>\n",
       "      <td>0.00000</td>\n",
       "      <td>0.000000</td>\n",
       "      <td>0.000000</td>\n",
       "    </tr>\n",
       "    <tr>\n",
       "      <th>25%</th>\n",
       "      <td>25.00000</td>\n",
       "      <td>0.000000</td>\n",
       "      <td>1.000000</td>\n",
       "    </tr>\n",
       "    <tr>\n",
       "      <th>50%</th>\n",
       "      <td>50.00000</td>\n",
       "      <td>0.000000</td>\n",
       "      <td>3.000000</td>\n",
       "    </tr>\n",
       "    <tr>\n",
       "      <th>75%</th>\n",
       "      <td>83.00000</td>\n",
       "      <td>0.000000</td>\n",
       "      <td>5.000000</td>\n",
       "    </tr>\n",
       "    <tr>\n",
       "      <th>max</th>\n",
       "      <td>100.00000</td>\n",
       "      <td>151.000000</td>\n",
       "      <td>304.000000</td>\n",
       "    </tr>\n",
       "  </tbody>\n",
       "</table>\n",
       "</div>"
      ],
      "text/plain": [
       "       great_messages_proportion  teacher_referred_count  \\\n",
       "count               439487.00000           524928.000000   \n",
       "mean                    52.92709                0.777339   \n",
       "std                     35.71410                2.227933   \n",
       "min                      0.00000                0.000000   \n",
       "25%                     25.00000                0.000000   \n",
       "50%                     50.00000                0.000000   \n",
       "75%                     83.00000                0.000000   \n",
       "max                    100.00000              151.000000   \n",
       "\n",
       "       non_teacher_referred_count  \n",
       "count               524928.000000  \n",
       "mean                     4.361290  \n",
       "std                      5.668748  \n",
       "min                      0.000000  \n",
       "25%                      1.000000  \n",
       "50%                      3.000000  \n",
       "75%                      5.000000  \n",
       "max                    304.000000  "
      ]
     },
     "execution_count": 61,
     "metadata": {},
     "output_type": "execute_result"
    }
   ],
   "source": [
    "outcomes.describe()"
   ]
  },
  {
   "cell_type": "code",
   "execution_count": 62,
   "metadata": {},
   "outputs": [
    {
     "data": {
      "text/plain": [
       "['school_ncesid',\n",
       " 'school_metro',\n",
       " 'school_district',\n",
       " 'primary_focus_subject',\n",
       " 'primary_focus_area',\n",
       " 'secondary_focus_subject',\n",
       " 'secondary_focus_area',\n",
       " 'resource_type',\n",
       " 'grade_level',\n",
       " 'students_reached']"
      ]
     },
     "execution_count": 62,
     "metadata": {},
     "output_type": "execute_result"
    }
   ],
   "source": [
    "pf.na_cols(projects)"
   ]
  },
  {
   "cell_type": "code",
   "execution_count": 63,
   "metadata": {},
   "outputs": [
    {
     "data": {
      "text/plain": [
       "count    325165.000000\n",
       "mean         94.567616\n",
       "std         157.738063\n",
       "min           1.000000\n",
       "25%          23.000000\n",
       "50%          31.000000\n",
       "75%         100.000000\n",
       "max       12143.000000\n",
       "Name: students_reached, dtype: float64"
      ]
     },
     "execution_count": 63,
     "metadata": {},
     "output_type": "execute_result"
    }
   ],
   "source": [
    "projects.students_reached.describe()"
   ]
  },
  {
   "cell_type": "code",
   "execution_count": 64,
   "metadata": {},
   "outputs": [
    {
     "data": {
      "text/plain": [
       "['at_least_1_teacher_referred_donor',\n",
       " 'at_least_1_green_donation',\n",
       " 'three_or_more_non_teacher_referred_donors',\n",
       " 'one_non_teacher_referred_donor_giving_100_plus',\n",
       " 'donation_from_thoughtful_donor',\n",
       " 'great_messages_proportion',\n",
       " 'teacher_referred_count',\n",
       " 'non_teacher_referred_count']"
      ]
     },
     "execution_count": 64,
     "metadata": {},
     "output_type": "execute_result"
    }
   ],
   "source": [
    "pf.na_cols(outcomes)"
   ]
  },
  {
   "cell_type": "markdown",
   "metadata": {},
   "source": [
    "For both the projects and outcomes dataframes the columns that contain N/A values are not necessarily required for every project.\n",
    "Further, they generally are not suited for statistical analysis or imputation. "
   ]
  },
  {
   "cell_type": "code",
   "execution_count": 66,
   "metadata": {},
   "outputs": [],
   "source": [
    "by_state = find_top(projects, 'school_state')"
   ]
  },
  {
   "cell_type": "code",
   "execution_count": 36,
   "metadata": {},
   "outputs": [
    {
     "data": {
      "text/plain": [
       "school_state\n",
       "CA    53000\n",
       "NY    19090\n",
       "TX    14509\n",
       "FL    11743\n",
       "IL    10822\n",
       "NC     9531\n",
       "GA     6004\n",
       "TN     5612\n",
       "WA     5436\n",
       "PA     4980\n",
       "Name: projectid, dtype: int64"
      ]
     },
     "execution_count": 36,
     "metadata": {},
     "output_type": "execute_result"
    }
   ],
   "source": [
    "funded_by_state = find_top(funded, 'school_state')\n",
    "funded_by_state.projectid.head()\n",
    "limstate = funded_by_state['projectid'].head(10)\n",
    "limstate"
   ]
  },
  {
   "cell_type": "markdown",
   "metadata": {},
   "source": [
    "#### The states where the most number of projects are requested are California, New York, Texas, Florida, and North Carolina. This is not surprising as these are some of the larger states, and the ones who often have problems with public school funding, especially in urban areas. However, the most projects are funded in the first four states, and then in Illinois. "
   ]
  },
  {
   "cell_type": "code",
   "execution_count": 68,
   "metadata": {},
   "outputs": [
    {
     "data": {
      "text/plain": [
       "primary_focus_area\n",
       "Literacy & Language    148732\n",
       "Math & Science          81255\n",
       "Music & The Arts        29268\n",
       "Applied Learning        22303\n",
       "Special Needs           21462\n",
       "Name: projectid, dtype: int64"
      ]
     },
     "execution_count": 68,
     "metadata": {},
     "output_type": "execute_result"
    }
   ],
   "source": [
    "by_focus_area = find_top(projects, 'primary_focus_area')\n",
    "limfocus = by_focus_area['projectid'].head(5)\n",
    "limfocus"
   ]
  },
  {
   "cell_type": "markdown",
   "metadata": {},
   "source": [
    "#### The primary subject areas where projects mostly concentrated with Literacy & Language, Math & Science, Music & The Arts, Applied Learning,and Special Needs."
   ]
  },
  {
   "cell_type": "code",
   "execution_count": 69,
   "metadata": {},
   "outputs": [
    {
     "name": "stdout",
     "output_type": "stream",
     "text": [
      "Funds Requested\n",
      "Mean 537.309215657\n",
      "Maximum 139725.41\n",
      "Minimum 37.03\n"
     ]
    }
   ],
   "source": [
    "print(\"Funds Requested\")\n",
    "print(\"Mean\", projects.total_price_excluding_optional_support.mean())\n",
    "print(\"Maximum\", projects.total_price_excluding_optional_support.max())\n",
    "print(\"Minimum\", projects.total_price_excluding_optional_support.min())"
   ]
  },
  {
   "cell_type": "code",
   "execution_count": 70,
   "metadata": {},
   "outputs": [
    {
     "name": "stdout",
     "output_type": "stream",
     "text": [
      "Funds Provided\n",
      "Mean 488.181038292\n",
      "Maximum 139725.41\n",
      "Minimum 37.03\n"
     ]
    }
   ],
   "source": [
    "print(\"Funds Provided\")\n",
    "print(\"Mean\", funded.total_price_excluding_optional_support.mean())\n",
    "print(\"Maximum\", funded.total_price_excluding_optional_support.max())\n",
    "print(\"Minimum\", funded.total_price_excluding_optional_support.min())"
   ]
  },
  {
   "cell_type": "markdown",
   "metadata": {},
   "source": [
    "#### While the average amount requested for a project was 531 dollars, the average amount requested for the projects that were fully funded was 482 dollars. "
   ]
  },
  {
   "cell_type": "code",
   "execution_count": 71,
   "metadata": {},
   "outputs": [
    {
     "data": {
      "text/html": [
       "<div>\n",
       "<style scoped>\n",
       "    .dataframe tbody tr th:only-of-type {\n",
       "        vertical-align: middle;\n",
       "    }\n",
       "\n",
       "    .dataframe tbody tr th {\n",
       "        vertical-align: top;\n",
       "    }\n",
       "\n",
       "    .dataframe thead th {\n",
       "        text-align: right;\n",
       "    }\n",
       "</style>\n",
       "<table border=\"1\" class=\"dataframe\">\n",
       "  <thead>\n",
       "    <tr style=\"text-align: right;\">\n",
       "      <th></th>\n",
       "      <th>projectid</th>\n",
       "      <th>teacher_acctid</th>\n",
       "      <th>schoolid</th>\n",
       "      <th>school_ncesid</th>\n",
       "      <th>school_latitude</th>\n",
       "      <th>school_longitude</th>\n",
       "      <th>school_city</th>\n",
       "      <th>school_state</th>\n",
       "      <th>school_zip</th>\n",
       "      <th>school_metro</th>\n",
       "      <th>...</th>\n",
       "      <th>at_least_1_teacher_referred_donor</th>\n",
       "      <th>fully_funded</th>\n",
       "      <th>at_least_1_green_donation</th>\n",
       "      <th>great_chat</th>\n",
       "      <th>three_or_more_non_teacher_referred_donors</th>\n",
       "      <th>one_non_teacher_referred_donor_giving_100_plus</th>\n",
       "      <th>donation_from_thoughtful_donor</th>\n",
       "      <th>great_messages_proportion</th>\n",
       "      <th>teacher_referred_count</th>\n",
       "      <th>non_teacher_referred_count</th>\n",
       "    </tr>\n",
       "    <tr>\n",
       "      <th>is_exciting</th>\n",
       "      <th></th>\n",
       "      <th></th>\n",
       "      <th></th>\n",
       "      <th></th>\n",
       "      <th></th>\n",
       "      <th></th>\n",
       "      <th></th>\n",
       "      <th></th>\n",
       "      <th></th>\n",
       "      <th></th>\n",
       "      <th></th>\n",
       "      <th></th>\n",
       "      <th></th>\n",
       "      <th></th>\n",
       "      <th></th>\n",
       "      <th></th>\n",
       "      <th></th>\n",
       "      <th></th>\n",
       "      <th></th>\n",
       "      <th></th>\n",
       "      <th></th>\n",
       "    </tr>\n",
       "  </thead>\n",
       "  <tbody>\n",
       "    <tr>\n",
       "      <th>f</th>\n",
       "      <td>200788</td>\n",
       "      <td>200788</td>\n",
       "      <td>200788</td>\n",
       "      <td>186749</td>\n",
       "      <td>200788</td>\n",
       "      <td>200788</td>\n",
       "      <td>200788</td>\n",
       "      <td>200788</td>\n",
       "      <td>200788</td>\n",
       "      <td>177881</td>\n",
       "      <td>...</td>\n",
       "      <td>200762</td>\n",
       "      <td>200788</td>\n",
       "      <td>200762</td>\n",
       "      <td>200788</td>\n",
       "      <td>200762</td>\n",
       "      <td>200762</td>\n",
       "      <td>200762</td>\n",
       "      <td>196509</td>\n",
       "      <td>200762</td>\n",
       "      <td>200762</td>\n",
       "    </tr>\n",
       "    <tr>\n",
       "      <th>t</th>\n",
       "      <td>28974</td>\n",
       "      <td>28974</td>\n",
       "      <td>28974</td>\n",
       "      <td>26343</td>\n",
       "      <td>28974</td>\n",
       "      <td>28974</td>\n",
       "      <td>28974</td>\n",
       "      <td>28974</td>\n",
       "      <td>28974</td>\n",
       "      <td>25476</td>\n",
       "      <td>...</td>\n",
       "      <td>28974</td>\n",
       "      <td>28974</td>\n",
       "      <td>28974</td>\n",
       "      <td>28974</td>\n",
       "      <td>28974</td>\n",
       "      <td>28974</td>\n",
       "      <td>28974</td>\n",
       "      <td>28974</td>\n",
       "      <td>28974</td>\n",
       "      <td>28974</td>\n",
       "    </tr>\n",
       "  </tbody>\n",
       "</table>\n",
       "<p>2 rows × 45 columns</p>\n",
       "</div>"
      ],
      "text/plain": [
       "             projectid  teacher_acctid  schoolid  school_ncesid  \\\n",
       "is_exciting                                                       \n",
       "f               200788          200788    200788         186749   \n",
       "t                28974           28974     28974          26343   \n",
       "\n",
       "             school_latitude  school_longitude  school_city  school_state  \\\n",
       "is_exciting                                                                 \n",
       "f                     200788            200788       200788        200788   \n",
       "t                      28974             28974        28974         28974   \n",
       "\n",
       "             school_zip  school_metro             ...              \\\n",
       "is_exciting                                       ...               \n",
       "f                200788        177881             ...               \n",
       "t                 28974         25476             ...               \n",
       "\n",
       "             at_least_1_teacher_referred_donor  fully_funded  \\\n",
       "is_exciting                                                    \n",
       "f                                       200762        200788   \n",
       "t                                        28974         28974   \n",
       "\n",
       "             at_least_1_green_donation  great_chat  \\\n",
       "is_exciting                                          \n",
       "f                               200762      200788   \n",
       "t                                28974       28974   \n",
       "\n",
       "             three_or_more_non_teacher_referred_donors  \\\n",
       "is_exciting                                              \n",
       "f                                               200762   \n",
       "t                                                28974   \n",
       "\n",
       "             one_non_teacher_referred_donor_giving_100_plus  \\\n",
       "is_exciting                                                   \n",
       "f                                                    200762   \n",
       "t                                                     28974   \n",
       "\n",
       "             donation_from_thoughtful_donor  great_messages_proportion  \\\n",
       "is_exciting                                                              \n",
       "f                                    200762                     196509   \n",
       "t                                     28974                      28974   \n",
       "\n",
       "             teacher_referred_count  non_teacher_referred_count  \n",
       "is_exciting                                                      \n",
       "f                            200762                      200762  \n",
       "t                             28974                       28974  \n",
       "\n",
       "[2 rows x 45 columns]"
      ]
     },
     "execution_count": 71,
     "metadata": {},
     "output_type": "execute_result"
    }
   ],
   "source": [
    "find_top(funded, 'is_exciting')\n",
    "#funded_exciting = round((31611 / (31611 + 216087))*100)"
   ]
  },
  {
   "cell_type": "code",
   "execution_count": 72,
   "metadata": {},
   "outputs": [
    {
     "data": {
      "text/plain": [
       "13"
      ]
     },
     "execution_count": 72,
     "metadata": {},
     "output_type": "execute_result"
    }
   ],
   "source": [
    "find_top(funded, 'is_exciting')\n",
    "funded_exciting = round((31611 / (31611 + 216087))*100)\n",
    "funded_exciting"
   ]
  },
  {
   "cell_type": "code",
   "execution_count": 73,
   "metadata": {},
   "outputs": [
    {
     "data": {
      "text/plain": [
       "['f']"
      ]
     },
     "execution_count": 73,
     "metadata": {},
     "output_type": "execute_result"
    }
   ],
   "source": [
    "list(not_funded.is_exciting.unique())"
   ]
  },
  {
   "cell_type": "markdown",
   "metadata": {},
   "source": [
    "#### Even among the funded projects, only 13% were deemed \"exciting\". However, none of the not funded projects were deemed exciting. "
   ]
  },
  {
   "cell_type": "code",
   "execution_count": 74,
   "metadata": {},
   "outputs": [],
   "source": [
    "find_top(combined, 'fully_funded')\n",
    "ff_labels = [\"Yes\", \"No\"]\n",
    "ff_vals = [247698, 105453]"
   ]
  },
  {
   "cell_type": "markdown",
   "metadata": {},
   "source": [
    "## Data Representation "
   ]
  },
  {
   "cell_type": "code",
   "execution_count": 20,
   "metadata": {},
   "outputs": [],
   "source": [
    "def plot_bar_chart(xvals, yvals, xlabel, ylabel, title, width = 0.35, color = 'purple'):\n",
    "    '''\n",
    "    Takes in values and labels and plots a bar chart/\n",
    "    \n",
    "    Inputs:\n",
    "        N (int): number of bars\n",
    "        xvals (tuple): x value categories\n",
    "        yvals (tuple): y values\n",
    "        xlabel, ylabel, title (string): labels for x-axis, y-axis, and title\n",
    "        width (float): width of each bar, defaults to 0.35\n",
    "        color (string): color of bars, defaults to purple\n",
    "            color choices: https://matplotlib.org/api/colors_api.html\n",
    "    '''\n",
    "    counts = yvals\n",
    "\n",
    "    ind = np.arange(len(xvals))  # the x locations for the groups\n",
    "    width = 0.35       # the width of the bars\n",
    "\n",
    "    fig, ax = plt.subplots()\n",
    "    rects1 = ax.bar(ind, counts, width, color=color)\n",
    "\n",
    "    ax.set_xlabel(xlabel)\n",
    "    ax.set_ylabel(ylabel)\n",
    "    ax.set_title(title)\n",
    "    ax.set_xticks(ind + width / 2)\n",
    "    ax.set_xticklabels(xvals)\n",
    "    \n",
    "    plt.gcf().subplots_adjust(bottom=0.2) # make room for x-axis labels\n",
    "\n",
    "    plt.show()"
   ]
  },
  {
   "cell_type": "code",
   "execution_count": 42,
   "metadata": {},
   "outputs": [],
   "source": [
    "def bar_top(df, col_of_interest, xlabel, ylabel, title, sort_by='projectid', max = 5, width =0.35, color='blue'):\n",
    "    '''\n",
    "    Creates a bar chart of the top categories in a given column\n",
    "    \n",
    "    Inputs:\n",
    "        df (pandas dataframe): dataframe of interest\n",
    "        col_of_interest (str): name of column of interest\n",
    "        sort_by (pandas series): column to sort dataframe by\n",
    "        xlabel, ylabel, title (string): labels for x-axis, y-axis, and title\n",
    "        width (float): width of each bar, defaults to 0.35\n",
    "        color (string): color of bars, defaults to purple\n",
    "            color choices: https://matplotlib.org/api/colors_api.html\n",
    "    '''\n",
    "    \n",
    "    top = find_top(df, col_of_interest)\n",
    "    top = top[selected_col].head(max)\n",
    "        \n",
    "    plot_bar_chart(tuple(top.index), tuple(top), xlabel, ylabel, title, width, color)\n"
   ]
  },
  {
   "cell_type": "code",
   "execution_count": null,
   "metadata": {},
   "outputs": [],
   "source": [
    "def plot_pie_chart(vals, labels, colors = [\"red\", \"blue\", \"green\", \"violet\", \"orange\"]):\n",
    "    '''\n",
    "    Takes in values and labels and plots a pie chart\n",
    "    \n",
    "    Inputs:\n",
    "        vals (list of ints): values to be charted\n",
    "        labels (list of strings): labels for each section\n",
    "        colors (list of strings): Colors for each section of graph. Must be the same length as the number of vals.\n",
    "            color choices: https://matplotlib.org/api/colors_api.html\n",
    "    '''\n",
    "    \n",
    "    if len(colors) < len(vals):\n",
    "        print(\"Please insert more colors\")\n",
    "    \n",
    "    plt.pie(\n",
    "    vals,\n",
    "    labels=labels,\n",
    "    # with no shadows\n",
    "    shadow=False,\n",
    "    # with colors\n",
    "    colors=colors,\n",
    "    # with one slide exploded out\n",
    "    #explode=(0, 0, 0, 0, 0.15),\n",
    "    # with the start angle at 90%\n",
    "    startangle=90,\n",
    "    # with the percent listed as a fraction\n",
    "    autopct='%1.1f%%',\n",
    "    )\n",
    "\n",
    "    plt.axis('equal')\n",
    "\n",
    "    # View the plot\n",
    "    plt.tight_layout()\n",
    "    plt.show()"
   ]
  },
  {
   "cell_type": "code",
   "execution_count": 101,
   "metadata": {},
   "outputs": [],
   "source": [
    "def plot_correlation_heatmap(df):\n",
    "    '''\n",
    "    Creates a correlation heat map of a data frame\n",
    "    \n",
    "    Input:\n",
    "        df (pandas dataframe): data frame to be plotted \n",
    "    '''\n",
    "    \n",
    "    corr = df.corr()\n",
    "    sns.heatmap(corr, xticklabels=corr.columns.values, yticklabels=corr.columns.values)\n",
    "    plt.show()"
   ]
  },
  {
   "cell_type": "code",
   "execution_count": 1,
   "metadata": {},
   "outputs": [],
   "source": [
    "def pie_top(df, col_of_interest, sort_by='projectid', labels = '', colors = [\"red\", \"blue\", \"green\", \"violet\", \"orange\"]):\n",
    "    '''\n",
    "    Creates a pie chart of the top categories in a given column\n",
    "    \n",
    "    Inputs:\n",
    "        df (pandas dataframe): dataframe of interest\n",
    "        col_of_interest (str): name of column of interest\n",
    "        sort_by (pandas series): column to sort dataframe by\n",
    "        labels (list of strings): labels for each section\n",
    "        colors (list of strings): Colors for each section of graph. Must be the same length as the number of vals.\n",
    "            color choices: https://matplotlib.org/api/colors_api.html\n",
    "    '''\n",
    "    \n",
    "    \n",
    "    top = find_top(df, col_of_interest)\n",
    "    top = top[selected_col]\n",
    "    if labels == '':\n",
    "        labels = tuple(top.index)\n",
    "        \n",
    "    plot_pie_chart(tuple(top), labels, colors)"
   ]
  },
  {
   "cell_type": "markdown",
   "metadata": {},
   "source": [
    "### Do most projects get funded?"
   ]
  },
  {
   "cell_type": "code",
   "execution_count": 111,
   "metadata": {},
   "outputs": [
    {
     "data": {
      "image/png": "[encoded data removed]",
      "text/plain": [
       "<Figure size 432x288 with 1 Axes>"
      ]
     },
     "metadata": {},
     "output_type": "display_data"
    }
   ],
   "source": [
    "pie_top(combined, 'fully_funded', labels = (\"Yes\", \"No\"))"
   ]
  },
  {
   "cell_type": "markdown",
   "metadata": {},
   "source": [
    "### What subjects does the funding go towards?"
   ]
  },
  {
   "cell_type": "code",
   "execution_count": 38,
   "metadata": {},
   "outputs": [
    {
     "data": {
      "image/png": "[encoded data removed]",
      "text/plain": [
       "<Figure size 432x288 with 1 Axes>"
      ]
     },
     "metadata": {},
     "output_type": "display_data"
    }
   ],
   "source": [
    "bar_top(funded, 'primary_focus_subject', \"Subject\", \"Number of Projects\", \"Projets by Subject\")"
   ]
  },
  {
   "cell_type": "code",
   "execution_count": 107,
   "metadata": {},
   "outputs": [
    {
     "data": {
      "image/png": "[encoded data removed]",
      "text/plain": [
       "<Figure size 432x288 with 1 Axes>"
      ]
     },
     "metadata": {},
     "output_type": "display_data"
    }
   ],
   "source": [
    "pie_top(funded, 'grade_level')"
   ]
  },
  {
   "cell_type": "markdown",
   "metadata": {},
   "source": [
    "### Which states are the most funded projects located in?"
   ]
  },
  {
   "cell_type": "code",
   "execution_count": 37,
   "metadata": {},
   "outputs": [
    {
     "data": {
      "image/png": "[encoded data removed]",
      "text/plain": [
       "<Figure size 432x288 with 1 Axes>"
      ]
     },
     "metadata": {},
     "output_type": "display_data"
    }
   ],
   "source": [
    "plot_bar_chart(tuple(limstate.index), tuple(limstate), \"State\", \"Number of Projects\", \"Projects by School State\")"
   ]
  },
  {
   "cell_type": "markdown",
   "metadata": {},
   "source": [
    "### Which socioeconomic groups would most of the projects help . . . . "
   ]
  },
  {
   "cell_type": "code",
   "execution_count": 109,
   "metadata": {},
   "outputs": [
    {
     "data": {
      "image/png": "[encoded data removed]",
      "text/plain": [
       "<Figure size 432x288 with 1 Axes>"
      ]
     },
     "metadata": {},
     "output_type": "display_data"
    }
   ],
   "source": [
    "pie_top(projects, \"poverty_level\")"
   ]
  },
  {
   "cell_type": "markdown",
   "metadata": {},
   "source": [
    "### and which projects get funded? "
   ]
  },
  {
   "cell_type": "code",
   "execution_count": 108,
   "metadata": {},
   "outputs": [
    {
     "data": {
      "image/png": "[encoded data removed]",
      "text/plain": [
       "<Figure size 432x288 with 1 Axes>"
      ]
     },
     "metadata": {},
     "output_type": "display_data"
    }
   ],
   "source": [
    "pie_top(funded, \"poverty_level\")"
   ]
  },
  {
   "cell_type": "markdown",
   "metadata": {},
   "source": [
    "The correlation heatmaps were not included as they were not informative and the insight provided was redundant. "
   ]
  },
  {
   "cell_type": "markdown",
   "metadata": {},
   "source": [
    "## Generate Features/Predictors"
   ]
  },
  {
   "cell_type": "markdown",
   "metadata": {},
   "source": [
    "## Build Classifier"
   ]
  },
  {
   "cell_type": "markdown",
   "metadata": {},
   "source": [
    "#### K Nearest Neighbors"
   ]
  },
  {
   "cell_type": "markdown",
   "metadata": {},
   "source": [
    "#### Neural Net"
   ]
  },
  {
   "cell_type": "markdown",
   "metadata": {},
   "source": [
    "#### Logistic Regression"
   ]
  },
  {
   "cell_type": "markdown",
   "metadata": {},
   "source": [
    "#### Decision Trees"
   ]
  },
  {
   "cell_type": "markdown",
   "metadata": {},
   "source": [
    "#### SVM"
   ]
  },
  {
   "cell_type": "markdown",
   "metadata": {},
   "source": [
    "#### Random Forests"
   ]
  },
  {
   "cell_type": "markdown",
   "metadata": {},
   "source": [
    "#### Boosting"
   ]
  },
  {
   "cell_type": "markdown",
   "metadata": {},
   "source": [
    "#### Bagging"
   ]
  },
  {
   "cell_type": "markdown",
   "metadata": {},
   "source": [
    "## Evaluation"
   ]
  },
  {
   "cell_type": "markdown",
   "metadata": {},
   "source": [
    "accuracy,\n",
    "precision at different levels,\n",
    "recall at different levels,\n",
    "F1, area under curve,\n",
    "precision-recall curves"
   ]
  }
 ],
 "metadata": {
  "kernelspec": {
   "display_name": "Python 3",
   "language": "python",
   "name": "python3"
  },
  "language_info": {
   "codemirror_mode": {
    "name": "ipython",
    "version": 3
   },
   "file_extension": ".py",
   "mimetype": "text/x-python",
   "name": "python",
   "nbconvert_exporter": "python",
   "pygments_lexer": "ipython3",
   "version": "3.6.4"
  }
 },
 "nbformat": 4,
 "nbformat_minor": 2
}
